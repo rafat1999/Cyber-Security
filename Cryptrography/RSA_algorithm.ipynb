{
  "nbformat": 4,
  "nbformat_minor": 0,
  "metadata": {
    "colab": {
      "provenance": []
    },
    "kernelspec": {
      "name": "python3",
      "display_name": "Python 3"
    },
    "language_info": {
      "name": "python"
    }
  },
  "cells": [
    {
      "cell_type": "code",
      "execution_count": 34,
      "metadata": {
        "id": "zdiwfSxq-Y4i"
      },
      "outputs": [],
      "source": [
        "import math\n",
        "\n",
        "def finding_value(p,q):\n",
        "    n = \"\"\n",
        "    d_n = \"\"\n",
        "    n = p * q\n",
        "    d_n = ((p-1)*(q-1))\n",
        "\n",
        "    return n, d_n"
      ]
    },
    {
      "cell_type": "code",
      "source": [
        "p = int(input(\"Enter the 1st prime number: \"))\n",
        "q = int(input(\"Enter the 2nd prome number: \"))"
      ],
      "metadata": {
        "colab": {
          "base_uri": "https://localhost:8080/"
        },
        "id": "hal8x-Qn-h8Z",
        "outputId": "43947058-cbeb-4c7f-cbcd-82c2a8d1c5e0"
      },
      "execution_count": 35,
      "outputs": [
        {
          "name": "stdout",
          "output_type": "stream",
          "text": [
            "Enter the 1st prime number: 3\n",
            "Enter the 2nd prome number: 11\n"
          ]
        }
      ]
    },
    {
      "cell_type": "code",
      "source": [
        "n, phi_n = finding_value(p,q)\n",
        "print (\"The value of n is: \",n)\n",
        "print(\"The value of φ(n) is: \",phi_n)"
      ],
      "metadata": {
        "colab": {
          "base_uri": "https://localhost:8080/"
        },
        "id": "YK1zrJIT-joQ",
        "outputId": "52fd3ec9-f071-400e-bd14-6d21ed4b46a2"
      },
      "execution_count": 36,
      "outputs": [
        {
          "output_type": "stream",
          "name": "stdout",
          "text": [
            "The value of n is:  33\n",
            "The value of φ(n) is:  20\n"
          ]
        }
      ]
    },
    {
      "cell_type": "code",
      "source": [
        "def key(e):\n",
        "  while(e < int (phi_n)):\n",
        "    if (math.gcd(e, phi_n) == 1):\n",
        "        break\n",
        "    else:\n",
        "        e += 1\n",
        "  return e"
      ],
      "metadata": {
        "id": "tES8PTZAFG3d"
      },
      "execution_count": 54,
      "outputs": []
    },
    {
      "cell_type": "code",
      "source": [
        "e = 2\n",
        "\n",
        "e = key(e)\n",
        "\n",
        "print(\"the k1 is: \",e,n)"
      ],
      "metadata": {
        "colab": {
          "base_uri": "https://localhost:8080/"
        },
        "id": "rIw_iTi6EKpx",
        "outputId": "d86a9d5d-f7af-47e5-e325-10cf7bc8dda1"
      },
      "execution_count": 71,
      "outputs": [
        {
          "output_type": "stream",
          "name": "stdout",
          "text": [
            "the k1 is:  3 33\n"
          ]
        }
      ]
    },
    {
      "cell_type": "code",
      "source": [
        "d = None\n",
        "for k in range (100):\n",
        "    d = ((1 + k *phi_n) // e)\n",
        "\n",
        "    if d == ((1 + k *phi_n) / e):\n",
        "      print(\"The private key is: \",d , n)\n",
        "      break"
      ],
      "metadata": {
        "colab": {
          "base_uri": "https://localhost:8080/"
        },
        "id": "5LjbXqtrJYlZ",
        "outputId": "b1510101-6cd8-4397-fd65-b5bcf8eeb3e8"
      },
      "execution_count": 81,
      "outputs": [
        {
          "output_type": "stream",
          "name": "stdout",
          "text": [
            "The private key is:  7 33\n",
            "The private key is:  7 33\n"
          ]
        }
      ]
    },
    {
      "cell_type": "code",
      "source": [
        "def encryption(m,e,n):\n",
        "  c = None\n",
        "\n",
        "  c = pow(m,e)\n",
        "  c = math.fmod(c,n)\n",
        "\n",
        "  return c\n",
        "\n",
        "def decryption(c,d,n):\n",
        "  m = None\n",
        "\n",
        "  m = pow(c,d)\n",
        "  m = math.fmod(m,n)\n",
        "  \n",
        "  return m "
      ],
      "metadata": {
        "id": "H_dC5fweMt82"
      },
      "execution_count": 82,
      "outputs": []
    },
    {
      "cell_type": "code",
      "source": [
        "m = int(input(\"Enter the massage: \"))\n",
        "\n",
        "encrypt = encryption(m,e,n)\n",
        "print(\"Your encrypted massage is: \",encrypt)\n",
        "\n",
        "decrypt = decryption(encrypt,d,n)\n",
        "print(\"Your main massage is: \", decrypt)"
      ],
      "metadata": {
        "colab": {
          "base_uri": "https://localhost:8080/"
        },
        "id": "yMIqVhyhNqyF",
        "outputId": "15249e71-df70-4ff9-ce1e-8110d284aa05"
      },
      "execution_count": 83,
      "outputs": [
        {
          "output_type": "stream",
          "name": "stdout",
          "text": [
            "Enter the massage: 2\n",
            "Your encrypted massage is:  8.0\n",
            "Your main massage is:  2.0\n"
          ]
        }
      ]
    }
  ]
}